{
  "nbformat": 4,
  "nbformat_minor": 0,
  "metadata": {
    "colab": {
      "name": "skt_kogpt2_coreML_NLP_convert.ipynb",
      "provenance": [],
      "collapsed_sections": [],
      "authorship_tag": "ABX9TyM2DZOorjkYfNYzGrXMrLrG",
      "include_colab_link": true
    },
    "kernelspec": {
      "name": "python3",
      "display_name": "Python 3"
    },
    "language_info": {
      "name": "python"
    },
    "accelerator": "GPU",
    "gpuClass": "standard"
  },
  "cells": [
    {
      "cell_type": "markdown",
      "metadata": {
        "id": "view-in-github",
        "colab_type": "text"
      },
      "source": [
        "<a href=\"https://colab.research.google.com/github/SohyeonKim-dev/iOS_NLP/blob/main/skt_kogpt2_coreML_NLP_convert.ipynb\" target=\"_parent\"><img src=\"https://colab.research.google.com/assets/colab-badge.svg\" alt=\"Open In Colab\"/></a>"
      ]
    },
    {
      "cell_type": "code",
      "execution_count": 10,
      "metadata": {
        "colab": {
          "base_uri": "https://localhost:8080/"
        },
        "id": "23hODngInzVo",
        "outputId": "e943f248-2a23-49ab-ad0c-b0ffa44c09d7"
      },
      "outputs": [
        {
          "output_type": "stream",
          "name": "stdout",
          "text": [
            "Looking in indexes: https://pypi.org/simple, https://us-python.pkg.dev/colab-wheels/public/simple/\n",
            "Requirement already satisfied: transformers in /usr/local/lib/python3.7/dist-packages (4.21.2)\n",
            "Requirement already satisfied: tqdm>=4.27 in /usr/local/lib/python3.7/dist-packages (from transformers) (4.64.0)\n",
            "Requirement already satisfied: filelock in /usr/local/lib/python3.7/dist-packages (from transformers) (3.8.0)\n",
            "Requirement already satisfied: tokenizers!=0.11.3,<0.13,>=0.11.1 in /usr/local/lib/python3.7/dist-packages (from transformers) (0.12.1)\n",
            "Requirement already satisfied: pyyaml>=5.1 in /usr/local/lib/python3.7/dist-packages (from transformers) (6.0)\n",
            "Requirement already satisfied: importlib-metadata in /usr/local/lib/python3.7/dist-packages (from transformers) (4.12.0)\n",
            "Requirement already satisfied: huggingface-hub<1.0,>=0.1.0 in /usr/local/lib/python3.7/dist-packages (from transformers) (0.9.1)\n",
            "Requirement already satisfied: regex!=2019.12.17 in /usr/local/lib/python3.7/dist-packages (from transformers) (2022.6.2)\n",
            "Requirement already satisfied: requests in /usr/local/lib/python3.7/dist-packages (from transformers) (2.23.0)\n",
            "Requirement already satisfied: numpy>=1.17 in /usr/local/lib/python3.7/dist-packages (from transformers) (1.21.6)\n",
            "Requirement already satisfied: packaging>=20.0 in /usr/local/lib/python3.7/dist-packages (from transformers) (21.3)\n",
            "Requirement already satisfied: typing-extensions>=3.7.4.3 in /usr/local/lib/python3.7/dist-packages (from huggingface-hub<1.0,>=0.1.0->transformers) (4.1.1)\n",
            "Requirement already satisfied: pyparsing!=3.0.5,>=2.0.2 in /usr/local/lib/python3.7/dist-packages (from packaging>=20.0->transformers) (3.0.9)\n",
            "Requirement already satisfied: zipp>=0.5 in /usr/local/lib/python3.7/dist-packages (from importlib-metadata->transformers) (3.8.1)\n",
            "Requirement already satisfied: certifi>=2017.4.17 in /usr/local/lib/python3.7/dist-packages (from requests->transformers) (2022.6.15)\n",
            "Requirement already satisfied: chardet<4,>=3.0.2 in /usr/local/lib/python3.7/dist-packages (from requests->transformers) (3.0.4)\n",
            "Requirement already satisfied: urllib3!=1.25.0,!=1.25.1,<1.26,>=1.21.1 in /usr/local/lib/python3.7/dist-packages (from requests->transformers) (1.24.3)\n",
            "Requirement already satisfied: idna<3,>=2.5 in /usr/local/lib/python3.7/dist-packages (from requests->transformers) (2.10)\n"
          ]
        }
      ],
      "source": [
        "pip install transformers"
      ]
    },
    {
      "cell_type": "code",
      "source": [
        "pip install accelerate"
      ],
      "metadata": {
        "colab": {
          "base_uri": "https://localhost:8080/"
        },
        "id": "oyZLOP9IqnQr",
        "outputId": "008b5f41-e1a6-4c67-d57f-c135585b9841"
      },
      "execution_count": 11,
      "outputs": [
        {
          "output_type": "stream",
          "name": "stdout",
          "text": [
            "Looking in indexes: https://pypi.org/simple, https://us-python.pkg.dev/colab-wheels/public/simple/\n",
            "Requirement already satisfied: accelerate in /usr/local/lib/python3.7/dist-packages (0.12.0)\n",
            "Requirement already satisfied: torch>=1.4.0 in /usr/local/lib/python3.7/dist-packages (from accelerate) (1.12.1+cu113)\n",
            "Requirement already satisfied: pyyaml in /usr/local/lib/python3.7/dist-packages (from accelerate) (6.0)\n",
            "Requirement already satisfied: numpy>=1.17 in /usr/local/lib/python3.7/dist-packages (from accelerate) (1.21.6)\n",
            "Requirement already satisfied: psutil in /usr/local/lib/python3.7/dist-packages (from accelerate) (5.4.8)\n",
            "Requirement already satisfied: packaging>=20.0 in /usr/local/lib/python3.7/dist-packages (from accelerate) (21.3)\n",
            "Requirement already satisfied: pyparsing!=3.0.5,>=2.0.2 in /usr/local/lib/python3.7/dist-packages (from packaging>=20.0->accelerate) (3.0.9)\n",
            "Requirement already satisfied: typing-extensions in /usr/local/lib/python3.7/dist-packages (from torch>=1.4.0->accelerate) (4.1.1)\n"
          ]
        }
      ]
    },
    {
      "cell_type": "code",
      "source": [
        "pip install coremltools"
      ],
      "metadata": {
        "colab": {
          "base_uri": "https://localhost:8080/"
        },
        "id": "Yu1-6f20SYi3",
        "outputId": "fe26530d-bf77-4163-ca69-0f306540f474"
      },
      "execution_count": 12,
      "outputs": [
        {
          "output_type": "stream",
          "name": "stdout",
          "text": [
            "Looking in indexes: https://pypi.org/simple, https://us-python.pkg.dev/colab-wheels/public/simple/\n",
            "Requirement already satisfied: coremltools in /usr/local/lib/python3.7/dist-packages (5.2.0)\n",
            "Requirement already satisfied: numpy>=1.14.5 in /usr/local/lib/python3.7/dist-packages (from coremltools) (1.21.6)\n",
            "Requirement already satisfied: packaging in /usr/local/lib/python3.7/dist-packages (from coremltools) (21.3)\n",
            "Requirement already satisfied: sympy in /usr/local/lib/python3.7/dist-packages (from coremltools) (1.7.1)\n",
            "Requirement already satisfied: protobuf>=3.1.0 in /usr/local/lib/python3.7/dist-packages (from coremltools) (3.17.3)\n",
            "Requirement already satisfied: tqdm in /usr/local/lib/python3.7/dist-packages (from coremltools) (4.64.0)\n",
            "Requirement already satisfied: six>=1.9 in /usr/local/lib/python3.7/dist-packages (from protobuf>=3.1.0->coremltools) (1.15.0)\n",
            "Requirement already satisfied: pyparsing!=3.0.5,>=2.0.2 in /usr/local/lib/python3.7/dist-packages (from packaging->coremltools) (3.0.9)\n",
            "Requirement already satisfied: mpmath>=0.19 in /usr/local/lib/python3.7/dist-packages (from sympy->coremltools) (1.2.1)\n"
          ]
        }
      ]
    },
    {
      "cell_type": "code",
      "source": [
        "import torch\n",
        "from transformers import GPT2LMHeadModel"
      ],
      "metadata": {
        "id": "8g-R3fklp-0M"
      },
      "execution_count": 13,
      "outputs": []
    },
    {
      "cell_type": "code",
      "source": [
        "import coremltools as ct\n",
        "'for iOS coreML'"
      ],
      "metadata": {
        "colab": {
          "base_uri": "https://localhost:8080/",
          "height": 58
        },
        "id": "Flw1esKrSONn",
        "outputId": "9aa710c5-4854-4a50-a79f-c49c902d1f52"
      },
      "execution_count": 14,
      "outputs": [
        {
          "output_type": "execute_result",
          "data": {
            "text/plain": [
              "'for iOS coreML'"
            ],
            "application/vnd.google.colaboratory.intrinsic+json": {
              "type": "string"
            }
          },
          "metadata": {},
          "execution_count": 14
        }
      ]
    },
    {
      "cell_type": "code",
      "source": [
        "import numpy as np"
      ],
      "metadata": {
        "id": "6_8wi-QLfkuS"
      },
      "execution_count": 15,
      "outputs": []
    },
    {
      "cell_type": "code",
      "source": [
        "from transformers import PreTrainedTokenizerFast\n",
        "tokenizer = PreTrainedTokenizerFast.from_pretrained(\"skt/kogpt2-base-v2\",\n",
        "bos_token='</s>', eos_token='</s>', unk_token='<unk>',\n",
        "pad_token='<pad>', mask_token='<mask>')\n",
        "tokenizer.tokenize(\"안녕하세요. 한국어 GPT-2 입니다.😅:)l^o\")"
      ],
      "metadata": {
        "colab": {
          "base_uri": "https://localhost:8080/"
        },
        "id": "KywYiD_Lr6fB",
        "outputId": "18a9a9d7-15b9-4569-e68e-44da5bb3d2d8"
      },
      "execution_count": 16,
      "outputs": [
        {
          "output_type": "stream",
          "name": "stderr",
          "text": [
            "The tokenizer class you load from this checkpoint is not the same type as the class this function is called from. It may result in unexpected tokenization. \n",
            "The tokenizer class you load from this checkpoint is 'GPT2Tokenizer'. \n",
            "The class this function is called from is 'PreTrainedTokenizerFast'.\n"
          ]
        },
        {
          "output_type": "execute_result",
          "data": {
            "text/plain": [
              "['▁안녕',\n",
              " '하',\n",
              " '세',\n",
              " '요.',\n",
              " '▁한국어',\n",
              " '▁G',\n",
              " 'P',\n",
              " 'T',\n",
              " '-2',\n",
              " '▁입',\n",
              " '니다.',\n",
              " '😅',\n",
              " ':)',\n",
              " 'l^o']"
            ]
          },
          "metadata": {},
          "execution_count": 16
        }
      ]
    },
    {
      "cell_type": "code",
      "source": [
        "model = GPT2LMHeadModel.from_pretrained('skt/kogpt2-base-v2')\n",
        "text = '딸기 케이크 레시피'\n",
        "input_ids = tokenizer.encode(text, return_tensors='pt')\n",
        "gen_ids = model.generate(input_ids,\n",
        "                           max_length=128,\n",
        "                           repetition_penalty=2.0,\n",
        "                           pad_token_id=tokenizer.pad_token_id,\n",
        "                           eos_token_id=tokenizer.eos_token_id,\n",
        "                           bos_token_id=tokenizer.bos_token_id,\n",
        "                           use_cache=True)\n",
        "\n",
        "generated = tokenizer.decode(gen_ids[0])\n",
        "print(generated)"
      ],
      "metadata": {
        "colab": {
          "base_uri": "https://localhost:8080/"
        },
        "id": "dwoE5sJSqB9F",
        "outputId": "7c64adec-109e-4d6e-fea4-60cf84a9ccc5"
      },
      "execution_count": 21,
      "outputs": [
        {
          "output_type": "stream",
          "name": "stdout",
          "text": [
            "딸기 케이크 레시피를 공개했다.\n",
            "이번 제품은 ‘레몬케익’, ‘오렌지치즈’ 등 3가지 맛으로 구성됐다.\n",
            "‘오렌지·블루베리’는 블루베리와 함께 먹으면 더욱 달콤한 맛을 느낄 수 있다.\n",
            "또한 오리지널과 오렌지 2가지 맛이 어우러진 제품으로, 취향에 따라 선택할 수도 있다. 가격은 각각 1만5000원, 2만8500원이다.\n",
            "롯데제과는 지난해 11월부터 껌, 캔디, 초콜릿 등의 과자류 제품을 선보이고 있으며, 올해는 과일맛의 신제품인 '초코칩'을 출시할 계획이다.\n",
            "지난달에는 초콜렛을 활용한 음료도 선보였다.\n",
            "'바나\n"
          ]
        }
      ]
    },
    {
      "cell_type": "code",
      "source": [
        "token_predictor = model.eval()"
      ],
      "metadata": {
        "id": "ymnWPQvLYi2u"
      },
      "execution_count": 37,
      "outputs": []
    },
    {
      "cell_type": "code",
      "source": [
        "random_tokens = torch.randint(100, (5,))\n",
        "traced_token_predictor = torch.jit.trace(token_predictor, random_tokens)"
      ],
      "metadata": {
        "id": "6wtAqDnPbg-3"
      },
      "execution_count": 38,
      "outputs": []
    },
    {
      "cell_type": "code",
      "source": [
        "class FinishMySentence(torch.nn.Module):\n",
        "    def __init__(self, model=None, eos=198):\n",
        "        super(FinishMySentence, self).__init__()\n",
        "        self.eos = torch.tensor([eos])\n",
        "        self.next_token_predictor = model\n",
        "        self.default_token = torch.tensor([0])\n",
        "    \n",
        "    def forward(self, x):\n",
        "        sentence = x\n",
        "        token = self.default_token\n",
        "        while token != self.eos:\n",
        "            predictions, _ = self.next_token_predictor(sentence)\n",
        "            token = torch.argmax(predictions[-1, :], dim=0, keepdim=True)\n",
        "            sentence = torch.cat((sentence, token), 0)\n",
        "        \n",
        "        return sentence"
      ],
      "metadata": {
        "id": "EEh1v5HueH2g"
      },
      "execution_count": 42,
      "outputs": []
    },
    {
      "cell_type": "code",
      "source": [
        "model = FinishMySentence(model = traced_token_predictor)\n",
        "scripted_model = torch.jit.script(model)"
      ],
      "metadata": {
        "id": "kOCkGbHuRzl7"
      },
      "execution_count": 43,
      "outputs": []
    },
    {
      "cell_type": "code",
      "source": [
        "mlmodel = ct.convert(\n",
        "    scripted_model,\n",
        "    inputs=[ct.TensorType(name=\"context\", shape=(ct.RangeDim(1, 128),), dtype=np.int32)],\n",
        ")"
      ],
      "metadata": {
        "colab": {
          "base_uri": "https://localhost:8080/"
        },
        "id": "07733cz7UACs",
        "outputId": "bb03d5b6-438f-4a1e-e54d-fab31fe4d29a"
      },
      "execution_count": 44,
      "outputs": [
        {
          "output_type": "stream",
          "name": "stderr",
          "text": [
            "Converting Frontend ==> MIL Ops:   0%|          | 0/9 [00:00<?, ? ops/s]\n",
            "Converting Frontend ==> MIL Ops:   0%|          | 0/1401 [00:00<?, ? ops/s]\u001b[A\n",
            "Converting Frontend ==> MIL Ops:   3%|▎         | 47/1401 [00:00<00:02, 463.12 ops/s]\u001b[AWARNING:root:Saving value type of float64 into a builtin type of fp32, might lose precision!\n",
            "\n",
            "Converting Frontend ==> MIL Ops:   9%|▊         | 121/1401 [00:00<00:02, 623.80 ops/s]\u001b[A\n",
            "Converting Frontend ==> MIL Ops:  13%|█▎        | 184/1401 [00:00<00:02, 603.59 ops/s]\u001b[AWARNING:root:Saving value type of float64 into a builtin type of fp32, might lose precision!\n",
            "\n",
            "Converting Frontend ==> MIL Ops:  17%|█▋        | 245/1401 [00:00<00:01, 591.07 ops/s]\u001b[AWARNING:root:Saving value type of float64 into a builtin type of fp32, might lose precision!\n",
            "\n",
            "Converting Frontend ==> MIL Ops:  22%|██▏       | 305/1401 [00:00<00:01, 548.28 ops/s]\u001b[A\n",
            "Converting Frontend ==> MIL Ops:  26%|██▌       | 361/1401 [00:00<00:01, 532.01 ops/s]\u001b[AWARNING:root:Saving value type of float64 into a builtin type of fp32, might lose precision!\n",
            "\n",
            "Converting Frontend ==> MIL Ops:  30%|██▉       | 415/1401 [00:00<00:02, 473.66 ops/s]\u001b[A\n",
            "Converting Frontend ==> MIL Ops:  33%|███▎      | 464/1401 [00:01<00:03, 263.22 ops/s]\u001b[A\n",
            "Converting Frontend ==> MIL Ops:  36%|███▌      | 501/1401 [00:01<00:03, 272.42 ops/s]\u001b[AWARNING:root:Saving value type of float64 into a builtin type of fp32, might lose precision!\n",
            "\n",
            "Converting Frontend ==> MIL Ops:  38%|███▊      | 537/1401 [00:01<00:02, 288.64 ops/s]\u001b[A\n",
            "Converting Frontend ==> MIL Ops:  41%|████      | 573/1401 [00:01<00:02, 298.08 ops/s]\u001b[A\n",
            "Converting Frontend ==> MIL Ops:  43%|████▎     | 608/1401 [00:01<00:02, 298.51 ops/s]\u001b[AWARNING:root:Saving value type of float64 into a builtin type of fp32, might lose precision!\n",
            "\n",
            "Converting Frontend ==> MIL Ops:  46%|████▌     | 643/1401 [00:01<00:02, 304.39 ops/s]\u001b[A\n",
            "Converting Frontend ==> MIL Ops:  48%|████▊     | 676/1401 [00:01<00:02, 302.98 ops/s]\u001b[A\n",
            "Converting Frontend ==> MIL Ops:  51%|█████     | 708/1401 [00:01<00:02, 303.51 ops/s]\u001b[A\n",
            "Converting Frontend ==> MIL Ops:  53%|█████▎    | 740/1401 [00:02<00:02, 279.77 ops/s]\u001b[AWARNING:root:Saving value type of float64 into a builtin type of fp32, might lose precision!\n",
            "\n",
            "Converting Frontend ==> MIL Ops:  55%|█████▌    | 772/1401 [00:02<00:02, 286.48 ops/s]\u001b[A\n",
            "Converting Frontend ==> MIL Ops:  57%|█████▋    | 802/1401 [00:02<00:02, 283.89 ops/s]\u001b[A\n",
            "Converting Frontend ==> MIL Ops:  59%|█████▉    | 831/1401 [00:02<00:02, 263.34 ops/s]\u001b[AWARNING:root:Saving value type of float64 into a builtin type of fp32, might lose precision!\n",
            "\n",
            "Converting Frontend ==> MIL Ops:  61%|██████▏   | 859/1401 [00:02<00:02, 265.92 ops/s]\u001b[A\n",
            "Converting Frontend ==> MIL Ops:  63%|██████▎   | 887/1401 [00:02<00:01, 257.01 ops/s]\u001b[A\n",
            "Converting Frontend ==> MIL Ops:  65%|██████▌   | 917/1401 [00:02<00:01, 266.66 ops/s]\u001b[A\n",
            "Converting Frontend ==> MIL Ops:  67%|██████▋   | 944/1401 [00:02<00:01, 228.99 ops/s]\u001b[AWARNING:root:Saving value type of float64 into a builtin type of fp32, might lose precision!\n",
            "\n",
            "Converting Frontend ==> MIL Ops:  69%|██████▉   | 970/1401 [00:03<00:01, 234.08 ops/s]\u001b[A\n",
            "Converting Frontend ==> MIL Ops:  71%|███████   | 995/1401 [00:03<00:01, 230.91 ops/s]\u001b[A\n",
            "Converting Frontend ==> MIL Ops:  73%|███████▎  | 1019/1401 [00:03<00:01, 221.64 ops/s]\u001b[A\n",
            "Converting Frontend ==> MIL Ops:  75%|███████▍  | 1044/1401 [00:03<00:01, 227.24 ops/s]\u001b[A\n",
            "Converting Frontend ==> MIL Ops:  76%|███████▌  | 1068/1401 [00:03<00:01, 202.62 ops/s]\u001b[AWARNING:root:Saving value type of float64 into a builtin type of fp32, might lose precision!\n",
            "\n",
            "Converting Frontend ==> MIL Ops:  78%|███████▊  | 1089/1401 [00:03<00:01, 202.35 ops/s]\u001b[A\n",
            "Converting Frontend ==> MIL Ops:  79%|███████▉  | 1112/1401 [00:03<00:01, 204.20 ops/s]\u001b[A\n",
            "Converting Frontend ==> MIL Ops:  81%|████████▏ | 1140/1401 [00:03<00:01, 220.63 ops/s]\u001b[A\n",
            "Converting Frontend ==> MIL Ops:  83%|████████▎ | 1163/1401 [00:03<00:01, 196.58 ops/s]\u001b[A\n",
            "Converting Frontend ==> MIL Ops:  85%|████████▍ | 1184/1401 [00:04<00:01, 192.34 ops/s]\u001b[AWARNING:root:Saving value type of float64 into a builtin type of fp32, might lose precision!\n",
            "\n",
            "Converting Frontend ==> MIL Ops:  86%|████████▌ | 1205/1401 [00:04<00:00, 196.13 ops/s]\u001b[A\n",
            "Converting Frontend ==> MIL Ops:  87%|████████▋ | 1225/1401 [00:04<00:00, 189.86 ops/s]\u001b[A\n",
            "Converting Frontend ==> MIL Ops:  89%|████████▉ | 1249/1401 [00:04<00:00, 203.29 ops/s]\u001b[A\n",
            "Converting Frontend ==> MIL Ops:  91%|█████████ | 1270/1401 [00:04<00:00, 189.98 ops/s]\u001b[A\n",
            "Converting Frontend ==> MIL Ops:  92%|█████████▏| 1290/1401 [00:04<00:00, 172.75 ops/s]\u001b[AWARNING:root:Saving value type of float64 into a builtin type of fp32, might lose precision!\n",
            "\n",
            "Converting Frontend ==> MIL Ops:  93%|█████████▎| 1309/1401 [00:04<00:00, 176.42 ops/s]\u001b[A\n",
            "Converting Frontend ==> MIL Ops:  95%|█████████▍| 1328/1401 [00:04<00:00, 178.22 ops/s]\u001b[A\n",
            "Converting Frontend ==> MIL Ops:  96%|█████████▌| 1347/1401 [00:05<00:00, 171.49 ops/s]\u001b[A\n",
            "Converting Frontend ==> MIL Ops:  98%|█████████▊| 1368/1401 [00:05<00:00, 176.98 ops/s]\u001b[A\n",
            "Converting Frontend ==> MIL Ops: 100%|█████████▉| 1400/1401 [00:05<00:00, 263.88 ops/s]\n",
            "\n",
            "Converting Frontend ==> MIL Ops:   0%|          | 0/1401 [00:00<?, ? ops/s]\u001b[AWARNING:root:Saving value type of float64 into a builtin type of fp32, might lose precision!\n",
            "\n",
            "Converting Frontend ==> MIL Ops:   6%|▋         | 88/1401 [00:00<00:01, 849.87 ops/s]\u001b[A\n",
            "Converting Frontend ==> MIL Ops:  12%|█▏        | 173/1401 [00:00<00:01, 667.40 ops/s]\u001b[AWARNING:root:Saving value type of float64 into a builtin type of fp32, might lose precision!\n",
            "\n",
            "Converting Frontend ==> MIL Ops:  17%|█▋        | 242/1401 [00:00<00:01, 640.11 ops/s]\u001b[AWARNING:root:Saving value type of float64 into a builtin type of fp32, might lose precision!\n",
            "\n",
            "Converting Frontend ==> MIL Ops:  22%|██▏       | 308/1401 [00:00<00:01, 575.79 ops/s]\u001b[A\n",
            "Converting Frontend ==> MIL Ops:  26%|██▌       | 367/1401 [00:00<00:02, 510.54 ops/s]\u001b[AWARNING:root:Saving value type of float64 into a builtin type of fp32, might lose precision!\n",
            "\n",
            "Converting Frontend ==> MIL Ops:  30%|██▉       | 420/1401 [00:00<00:02, 481.73 ops/s]\u001b[A\n",
            "Converting Frontend ==> MIL Ops:  33%|███▎      | 469/1401 [00:00<00:02, 447.29 ops/s]\u001b[A\n",
            "Converting Frontend ==> MIL Ops:  37%|███▋      | 515/1401 [00:01<00:02, 399.11 ops/s]\u001b[AWARNING:root:Saving value type of float64 into a builtin type of fp32, might lose precision!\n",
            "\n",
            "Converting Frontend ==> MIL Ops:  40%|███▉      | 556/1401 [00:01<00:02, 384.34 ops/s]\u001b[A\n",
            "Converting Frontend ==> MIL Ops:  42%|████▏     | 595/1401 [00:01<00:02, 378.34 ops/s]\u001b[AWARNING:root:Saving value type of float64 into a builtin type of fp32, might lose precision!\n",
            "\n",
            "Converting Frontend ==> MIL Ops:  45%|████▌     | 633/1401 [00:01<00:02, 346.67 ops/s]\u001b[A\n",
            "Converting Frontend ==> MIL Ops:  48%|████▊     | 668/1401 [00:01<00:02, 330.34 ops/s]\u001b[A\n",
            "Converting Frontend ==> MIL Ops:  50%|█████     | 702/1401 [00:01<00:02, 321.62 ops/s]\u001b[A\n",
            "Converting Frontend ==> MIL Ops:  52%|█████▏    | 735/1401 [00:01<00:02, 298.29 ops/s]\u001b[AWARNING:root:Saving value type of float64 into a builtin type of fp32, might lose precision!\n",
            "\n",
            "Converting Frontend ==> MIL Ops:  55%|█████▍    | 768/1401 [00:01<00:02, 304.55 ops/s]\u001b[A\n",
            "Converting Frontend ==> MIL Ops:  57%|█████▋    | 799/1401 [00:02<00:02, 285.92 ops/s]\u001b[A\n",
            "Converting Frontend ==> MIL Ops:  59%|█████▉    | 828/1401 [00:02<00:02, 269.09 ops/s]\u001b[AWARNING:root:Saving value type of float64 into a builtin type of fp32, might lose precision!\n",
            "\n",
            "Converting Frontend ==> MIL Ops:  61%|██████    | 856/1401 [00:02<00:02, 269.90 ops/s]\u001b[A\n",
            "Converting Frontend ==> MIL Ops:  63%|██████▎   | 884/1401 [00:02<00:01, 263.75 ops/s]\u001b[A\n",
            "Converting Frontend ==> MIL Ops:  65%|██████▌   | 911/1401 [00:02<00:01, 258.75 ops/s]\u001b[A\n",
            "Converting Frontend ==> MIL Ops:  67%|██████▋   | 937/1401 [00:02<00:01, 252.74 ops/s]\u001b[AWARNING:root:Saving value type of float64 into a builtin type of fp32, might lose precision!\n",
            "\n",
            "Converting Frontend ==> MIL Ops:  69%|██████▊   | 963/1401 [00:02<00:01, 226.33 ops/s]\u001b[A\n",
            "Converting Frontend ==> MIL Ops:  71%|███████   | 991/1401 [00:02<00:01, 237.09 ops/s]\u001b[A\n",
            "Converting Frontend ==> MIL Ops:  73%|███████▎  | 1016/1401 [00:02<00:01, 222.63 ops/s]\u001b[A\n",
            "Converting Frontend ==> MIL Ops:  74%|███████▍  | 1043/1401 [00:03<00:01, 234.47 ops/s]\u001b[A\n",
            "Converting Frontend ==> MIL Ops:  76%|███████▌  | 1067/1401 [00:03<00:01, 208.84 ops/s]\u001b[AWARNING:root:Saving value type of float64 into a builtin type of fp32, might lose precision!\n",
            "\n",
            "Converting Frontend ==> MIL Ops:  78%|███████▊  | 1089/1401 [00:03<00:01, 210.45 ops/s]\u001b[A\n",
            "Converting Frontend ==> MIL Ops:  79%|███████▉  | 1112/1401 [00:03<00:01, 210.88 ops/s]\u001b[A\n",
            "Converting Frontend ==> MIL Ops:  81%|████████▏ | 1139/1401 [00:03<00:01, 226.19 ops/s]\u001b[A\n",
            "Converting Frontend ==> MIL Ops:  83%|████████▎ | 1163/1401 [00:03<00:01, 197.50 ops/s]\u001b[A\n",
            "Converting Frontend ==> MIL Ops:  85%|████████▍ | 1184/1401 [00:03<00:01, 192.82 ops/s]\u001b[AWARNING:root:Saving value type of float64 into a builtin type of fp32, might lose precision!\n",
            "\n",
            "Converting Frontend ==> MIL Ops:  86%|████████▌ | 1208/1401 [00:03<00:00, 202.68 ops/s]\u001b[A\n",
            "Converting Frontend ==> MIL Ops:  88%|████████▊ | 1229/1401 [00:03<00:00, 200.66 ops/s]\u001b[A\n",
            "Converting Frontend ==> MIL Ops:  89%|████████▉ | 1250/1401 [00:04<00:00, 201.48 ops/s]\u001b[A\n",
            "Converting Frontend ==> MIL Ops:  91%|█████████ | 1271/1401 [00:04<00:00, 183.65 ops/s]\u001b[A\n",
            "Converting Frontend ==> MIL Ops:  92%|█████████▏| 1290/1401 [00:04<00:00, 167.56 ops/s]\u001b[AWARNING:root:Saving value type of float64 into a builtin type of fp32, might lose precision!\n",
            "\n",
            "Converting Frontend ==> MIL Ops:  94%|█████████▎| 1310/1401 [00:04<00:00, 169.14 ops/s]\u001b[A\n",
            "Converting Frontend ==> MIL Ops:  95%|█████████▌| 1331/1401 [00:04<00:00, 174.74 ops/s]\u001b[A\n",
            "Converting Frontend ==> MIL Ops:  96%|█████████▋| 1349/1401 [00:04<00:00, 170.21 ops/s]\u001b[A\n",
            "Converting Frontend ==> MIL Ops:  98%|█████████▊| 1374/1401 [00:04<00:00, 189.55 ops/s]\u001b[A\n",
            "Converting Frontend ==> MIL Ops: 100%|█████████▉| 1400/1401 [00:04<00:00, 280.36 ops/s]\n",
            "Converting Frontend ==> MIL Ops:  89%|████████▉ | 8/9 [00:10<00:01,  1.29s/ ops]\n",
            "Running MIL Common passes: 100%|██████████| 34/34 [00:02<00:00, 13.89 passes/s]\n",
            "Running MIL Clean up passes: 100%|██████████| 9/9 [00:00<00:00, 19.34 passes/s]\n",
            "WARNING:root:Output var sentence_2 of type int32 in function main is cast to type fp32\n",
            "Translating MIL ==> NeuralNetwork Ops:   0%|          | 0/119 [00:00<?, ? ops/s]\n",
            "Translating MIL ==> NeuralNetwork Ops: 100%|██████████| 1/1 [00:00<00:00, 6355.01 ops/s]\n",
            "\n",
            "Translating MIL ==> NeuralNetwork Ops:   0%|          | 0/2108 [00:00<?, ? ops/s]\u001b[A\n",
            "Translating MIL ==> NeuralNetwork Ops:   1%|          | 24/2108 [00:02<03:04, 11.27 ops/s]\u001b[A\n",
            "Translating MIL ==> NeuralNetwork Ops:   2%|▏         | 40/2108 [00:02<01:46, 19.37 ops/s]\u001b[A\n",
            "Translating MIL ==> NeuralNetwork Ops:   8%|▊         | 177/2108 [00:02<00:17, 108.90 ops/s]\u001b[A\n",
            "Translating MIL ==> NeuralNetwork Ops:  10%|▉         | 202/2108 [00:02<00:17, 109.36 ops/s]\u001b[A\n",
            "Translating MIL ==> NeuralNetwork Ops:  11%|█         | 222/2108 [00:03<00:16, 111.30 ops/s]\u001b[A\n",
            "Translating MIL ==> NeuralNetwork Ops:  17%|█▋        | 349/2108 [00:03<00:08, 204.28 ops/s]\u001b[A\n",
            "Translating MIL ==> NeuralNetwork Ops:  18%|█▊        | 375/2108 [00:03<00:09, 182.34 ops/s]\u001b[A\n",
            "Translating MIL ==> NeuralNetwork Ops:  19%|█▉        | 397/2108 [00:03<00:09, 173.70 ops/s]\u001b[A\n",
            "Translating MIL ==> NeuralNetwork Ops:  25%|██▍       | 521/2108 [00:03<00:06, 258.76 ops/s]\u001b[A\n",
            "Translating MIL ==> NeuralNetwork Ops:  26%|██▌       | 548/2108 [00:04<00:06, 223.80 ops/s]\u001b[A\n",
            "Translating MIL ==> NeuralNetwork Ops:  27%|██▋       | 571/2108 [00:04<00:07, 204.79 ops/s]\u001b[A\n",
            "Translating MIL ==> NeuralNetwork Ops:  33%|███▎      | 693/2108 [00:04<00:04, 283.93 ops/s]\u001b[A\n",
            "Translating MIL ==> NeuralNetwork Ops:  34%|███▍      | 720/2108 [00:04<00:05, 237.83 ops/s]\u001b[A\n",
            "Translating MIL ==> NeuralNetwork Ops:  35%|███▌      | 743/2108 [00:05<00:06, 217.27 ops/s]\u001b[A\n",
            "Translating MIL ==> NeuralNetwork Ops:  41%|████      | 865/2108 [00:05<00:04, 295.01 ops/s]\u001b[A\n",
            "Translating MIL ==> NeuralNetwork Ops:  42%|████▏     | 892/2108 [00:05<00:04, 244.53 ops/s]\u001b[A\n",
            "Translating MIL ==> NeuralNetwork Ops:  43%|████▎     | 915/2108 [00:05<00:05, 222.71 ops/s]\u001b[A\n",
            "Translating MIL ==> NeuralNetwork Ops:  49%|████▉     | 1037/2108 [00:05<00:03, 299.60 ops/s]\u001b[A\n",
            "Translating MIL ==> NeuralNetwork Ops:  51%|█████     | 1065/2108 [00:06<00:04, 251.47 ops/s]\u001b[A\n",
            "Translating MIL ==> NeuralNetwork Ops:  52%|█████▏    | 1088/2108 [00:06<00:04, 223.33 ops/s]\u001b[A\n",
            "Translating MIL ==> NeuralNetwork Ops:  57%|█████▋    | 1209/2108 [00:06<00:03, 293.43 ops/s]\u001b[A\n",
            "Translating MIL ==> NeuralNetwork Ops:  59%|█████▊    | 1236/2108 [00:06<00:03, 248.53 ops/s]\u001b[A\n",
            "Translating MIL ==> NeuralNetwork Ops:  60%|█████▉    | 1259/2108 [00:07<00:03, 227.48 ops/s]\u001b[A\n",
            "Translating MIL ==> NeuralNetwork Ops:  66%|██████▌   | 1381/2108 [00:07<00:02, 304.29 ops/s]\u001b[A\n",
            "Translating MIL ==> NeuralNetwork Ops:  67%|██████▋   | 1409/2108 [00:07<00:02, 247.51 ops/s]\u001b[A\n",
            "Translating MIL ==> NeuralNetwork Ops:  68%|██████▊   | 1432/2108 [00:07<00:03, 220.57 ops/s]\u001b[A\n",
            "Translating MIL ==> NeuralNetwork Ops:  74%|███████▎  | 1553/2108 [00:07<00:01, 296.74 ops/s]\u001b[A\n",
            "Translating MIL ==> NeuralNetwork Ops:  75%|███████▍  | 1580/2108 [00:08<00:02, 249.34 ops/s]\u001b[A\n",
            "Translating MIL ==> NeuralNetwork Ops:  76%|███████▌  | 1603/2108 [00:08<00:02, 225.79 ops/s]\u001b[A\n",
            "Translating MIL ==> NeuralNetwork Ops:  82%|████████▏ | 1725/2108 [00:08<00:01, 299.51 ops/s]\u001b[A\n",
            "Translating MIL ==> NeuralNetwork Ops:  83%|████████▎ | 1752/2108 [00:08<00:01, 249.89 ops/s]\u001b[A\n",
            "Translating MIL ==> NeuralNetwork Ops:  84%|████████▍ | 1775/2108 [00:09<00:01, 225.83 ops/s]\u001b[A\n",
            "Translating MIL ==> NeuralNetwork Ops:  90%|████████▉ | 1897/2108 [00:09<00:00, 302.34 ops/s]\u001b[A\n",
            "Translating MIL ==> NeuralNetwork Ops:  91%|█████████▏| 1925/2108 [00:09<00:00, 245.64 ops/s]\u001b[A\n",
            "Translating MIL ==> NeuralNetwork Ops:  92%|█████████▏| 1948/2108 [00:09<00:00, 219.82 ops/s]\u001b[A\n",
            "Translating MIL ==> NeuralNetwork Ops:  98%|█████████▊| 2069/2108 [00:09<00:00, 295.99 ops/s]\u001b[A\n",
            "Translating MIL ==> NeuralNetwork Ops: 100%|██████████| 2108/2108 [00:12<00:00, 174.27 ops/s]\n",
            "Translating MIL ==> NeuralNetwork Ops: 100%|██████████| 119/119 [00:12<00:00,  9.80 ops/s]\n"
          ]
        }
      ]
    },
    {
      "cell_type": "code",
      "source": [
        "mlmodel.save(\"coreML_NLP_converted_mlmodel.mlmodel\")"
      ],
      "metadata": {
        "id": "WS3ltMJPeZL3"
      },
      "execution_count": 47,
      "outputs": []
    },
    {
      "cell_type": "code",
      "source": [
        "mlmodel.save(\"coreML_NLP_converted_mlmodel.mlpackage\")"
      ],
      "metadata": {
        "id": "MBB7sxnufnZR"
      },
      "execution_count": 49,
      "outputs": []
    },
    {
      "cell_type": "code",
      "source": [
        "# 출처(공식문서): https://coremltools.readme.io/docs/convert-nlp-model#convert-the-model-to-core-ml"
      ],
      "metadata": {
        "id": "3sW9WAgNUHTy"
      },
      "execution_count": null,
      "outputs": []
    }
  ]
}